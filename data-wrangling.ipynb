{
 "cells": [
  {
   "cell_type": "code",
   "execution_count": 3,
   "metadata": {},
   "outputs": [],
   "source": [
    "from geopy.geocoders import Nominatim\n",
    "from geopy import distance\n",
    "%matplotlib inline\n",
    "from datetime import datetime as dt\n",
    "import seaborn as sns\n",
    "import pandas as pd\n",
    "import numpy as np\n",
    "import matplotlib.pyplot as plt\n",
    "import math"
   ]
  },
  {
   "cell_type": "code",
   "execution_count": 41,
   "metadata": {},
   "outputs": [],
   "source": [
    "geolocator = Nominatim(user_agent=\"myGeocoder\")"
   ]
  },
  {
   "cell_type": "code",
   "execution_count": 42,
   "metadata": {},
   "outputs": [],
   "source": [
    "# initialize Nominatim API\n",
    "geolocator = Nominatim(user_agent=\"geoapiExercises\")"
   ]
  },
  {
   "cell_type": "code",
   "execution_count": null,
   "metadata": {},
   "outputs": [],
   "source": [
    "# Latitude & Longitude input\n",
    "Latitude = \"25.594095\"\n",
    "Longitude = \"85.137566\"\n",
    "\n",
    "location = geolocator.reverse(Latitude+\",\"+Longitude)\n",
    "address = location.raw['address']\n",
    "print(address)\n",
    "address['city']"
   ]
  },
  {
   "cell_type": "code",
   "execution_count": 5,
   "metadata": {},
   "outputs": [
    {
     "name": "stderr",
     "output_type": "stream",
     "text": [
      "C:\\Users\\DELL\\AppData\\Local\\Temp\\ipykernel_18092\\2116370262.py:1: DtypeWarning: Columns (1) have mixed types. Specify dtype option on import or set low_memory=False.\n",
      "  data = pd.read_csv(r\"C:\\Users\\DELL\\OneDrive\\Desktop\\ct_rr.csv\")\n"
     ]
    }
   ],
   "source": [
    "data = pd.read_csv(r\"C:\\Users\\DELL\\OneDrive\\Desktop\\ct_rr.csv\")"
   ]
  },
  {
   "cell_type": "code",
   "execution_count": 5,
   "metadata": {},
   "outputs": [
    {
     "data": {
      "text/plain": [
       "(1048575, 6)"
      ]
     },
     "execution_count": 5,
     "metadata": {},
     "output_type": "execute_result"
    }
   ],
   "source": [
    "data.shape"
   ]
  },
  {
   "cell_type": "code",
   "execution_count": null,
   "metadata": {},
   "outputs": [],
   "source": [
    "data.count()"
   ]
  },
  {
   "cell_type": "code",
   "execution_count": null,
   "metadata": {},
   "outputs": [],
   "source": [
    "data.month.unique()"
   ]
  },
  {
   "cell_type": "code",
   "execution_count": 8,
   "metadata": {},
   "outputs": [
    {
     "data": {
      "text/plain": [
       "128429"
      ]
     },
     "execution_count": 8,
     "metadata": {},
     "output_type": "execute_result"
    }
   ],
   "source": [
    "df = data[data.duplicated()]\n",
    "len(df)"
   ]
  },
  {
   "cell_type": "code",
   "execution_count": 9,
   "metadata": {},
   "outputs": [],
   "source": [
    "data.drop_duplicates(keep = 'first', inplace = True)"
   ]
  },
  {
   "cell_type": "code",
   "execution_count": 10,
   "metadata": {},
   "outputs": [
    {
     "data": {
      "text/plain": [
       "(920146, 6)"
      ]
     },
     "execution_count": 10,
     "metadata": {},
     "output_type": "execute_result"
    }
   ],
   "source": [
    "data.shape"
   ]
  },
  {
   "cell_type": "code",
   "execution_count": 11,
   "metadata": {},
   "outputs": [
    {
     "data": {
      "text/html": [
       "<div>\n",
       "<style scoped>\n",
       "    .dataframe tbody tr th:only-of-type {\n",
       "        vertical-align: middle;\n",
       "    }\n",
       "\n",
       "    .dataframe tbody tr th {\n",
       "        vertical-align: top;\n",
       "    }\n",
       "\n",
       "    .dataframe thead th {\n",
       "        text-align: right;\n",
       "    }\n",
       "</style>\n",
       "<table border=\"1\" class=\"dataframe\">\n",
       "  <thead>\n",
       "    <tr style=\"text-align: right;\">\n",
       "      <th></th>\n",
       "      <th>ts</th>\n",
       "      <th>number</th>\n",
       "      <th>pick_lat</th>\n",
       "      <th>pick_lng</th>\n",
       "      <th>drop_lat</th>\n",
       "      <th>drop_lng</th>\n",
       "    </tr>\n",
       "  </thead>\n",
       "  <tbody>\n",
       "    <tr>\n",
       "      <th>0</th>\n",
       "      <td>07-04-2018 07:07</td>\n",
       "      <td>14626</td>\n",
       "      <td>12.313621</td>\n",
       "      <td>76.658195</td>\n",
       "      <td>12.287301</td>\n",
       "      <td>76.602280</td>\n",
       "    </tr>\n",
       "    <tr>\n",
       "      <th>1</th>\n",
       "      <td>07-04-2018 07:32</td>\n",
       "      <td>85490</td>\n",
       "      <td>12.943947</td>\n",
       "      <td>77.560745</td>\n",
       "      <td>12.954014</td>\n",
       "      <td>77.543770</td>\n",
       "    </tr>\n",
       "    <tr>\n",
       "      <th>2</th>\n",
       "      <td>07-04-2018 07:36</td>\n",
       "      <td>5408</td>\n",
       "      <td>12.899603</td>\n",
       "      <td>77.587300</td>\n",
       "      <td>12.934780</td>\n",
       "      <td>77.569950</td>\n",
       "    </tr>\n",
       "    <tr>\n",
       "      <th>3</th>\n",
       "      <td>07-04-2018 07:38</td>\n",
       "      <td>58940</td>\n",
       "      <td>12.918229</td>\n",
       "      <td>77.607544</td>\n",
       "      <td>12.968971</td>\n",
       "      <td>77.636375</td>\n",
       "    </tr>\n",
       "    <tr>\n",
       "      <th>4</th>\n",
       "      <td>07-04-2018 07:39</td>\n",
       "      <td>5408</td>\n",
       "      <td>12.899490</td>\n",
       "      <td>77.587270</td>\n",
       "      <td>12.934780</td>\n",
       "      <td>77.569950</td>\n",
       "    </tr>\n",
       "  </tbody>\n",
       "</table>\n",
       "</div>"
      ],
      "text/plain": [
       "                 ts number   pick_lat   pick_lng   drop_lat   drop_lng\n",
       "0  07-04-2018 07:07  14626  12.313621  76.658195  12.287301  76.602280\n",
       "1  07-04-2018 07:32  85490  12.943947  77.560745  12.954014  77.543770\n",
       "2  07-04-2018 07:36   5408  12.899603  77.587300  12.934780  77.569950\n",
       "3  07-04-2018 07:38  58940  12.918229  77.607544  12.968971  77.636375\n",
       "4  07-04-2018 07:39   5408  12.899490  77.587270  12.934780  77.569950"
      ]
     },
     "execution_count": 11,
     "metadata": {},
     "output_type": "execute_result"
    }
   ],
   "source": [
    "data.head()"
   ]
  },
  {
   "cell_type": "code",
   "execution_count": 12,
   "metadata": {},
   "outputs": [
    {
     "data": {
      "text/plain": [
       "ts          128436\n",
       "number       74160\n",
       "pick_lat    173934\n",
       "pick_lng     44599\n",
       "drop_lat     69295\n",
       "drop_lng     31731\n",
       "dtype: int64"
      ]
     },
     "execution_count": 12,
     "metadata": {},
     "output_type": "execute_result"
    }
   ],
   "source": [
    "data.nunique()"
   ]
  },
  {
   "cell_type": "code",
   "execution_count": 8,
   "metadata": {},
   "outputs": [
    {
     "data": {
      "text/html": [
       "<div>\n",
       "<style scoped>\n",
       "    .dataframe tbody tr th:only-of-type {\n",
       "        vertical-align: middle;\n",
       "    }\n",
       "\n",
       "    .dataframe tbody tr th {\n",
       "        vertical-align: top;\n",
       "    }\n",
       "\n",
       "    .dataframe thead th {\n",
       "        text-align: right;\n",
       "    }\n",
       "</style>\n",
       "<table border=\"1\" class=\"dataframe\">\n",
       "  <thead>\n",
       "    <tr style=\"text-align: right;\">\n",
       "      <th></th>\n",
       "      <th>ts</th>\n",
       "      <th>number</th>\n",
       "      <th>pick_lat</th>\n",
       "      <th>pick_lng</th>\n",
       "      <th>drop_lat</th>\n",
       "      <th>drop_lng</th>\n",
       "      <th>raw_date</th>\n",
       "      <th>raw_time</th>\n",
       "    </tr>\n",
       "  </thead>\n",
       "  <tbody>\n",
       "    <tr>\n",
       "      <th>0</th>\n",
       "      <td>07-04-2018 07:07</td>\n",
       "      <td>14626</td>\n",
       "      <td>12.313621</td>\n",
       "      <td>76.658195</td>\n",
       "      <td>12.287301</td>\n",
       "      <td>76.602280</td>\n",
       "      <td>07-04-2018</td>\n",
       "      <td>07:07</td>\n",
       "    </tr>\n",
       "    <tr>\n",
       "      <th>1</th>\n",
       "      <td>07-04-2018 07:32</td>\n",
       "      <td>85490</td>\n",
       "      <td>12.943947</td>\n",
       "      <td>77.560745</td>\n",
       "      <td>12.954014</td>\n",
       "      <td>77.543770</td>\n",
       "      <td>07-04-2018</td>\n",
       "      <td>07:32</td>\n",
       "    </tr>\n",
       "    <tr>\n",
       "      <th>2</th>\n",
       "      <td>07-04-2018 07:36</td>\n",
       "      <td>5408</td>\n",
       "      <td>12.899603</td>\n",
       "      <td>77.587300</td>\n",
       "      <td>12.934780</td>\n",
       "      <td>77.569950</td>\n",
       "      <td>07-04-2018</td>\n",
       "      <td>07:36</td>\n",
       "    </tr>\n",
       "    <tr>\n",
       "      <th>3</th>\n",
       "      <td>07-04-2018 07:38</td>\n",
       "      <td>58940</td>\n",
       "      <td>12.918229</td>\n",
       "      <td>77.607544</td>\n",
       "      <td>12.968971</td>\n",
       "      <td>77.636375</td>\n",
       "      <td>07-04-2018</td>\n",
       "      <td>07:38</td>\n",
       "    </tr>\n",
       "    <tr>\n",
       "      <th>4</th>\n",
       "      <td>07-04-2018 07:39</td>\n",
       "      <td>5408</td>\n",
       "      <td>12.899490</td>\n",
       "      <td>77.587270</td>\n",
       "      <td>12.934780</td>\n",
       "      <td>77.569950</td>\n",
       "      <td>07-04-2018</td>\n",
       "      <td>07:39</td>\n",
       "    </tr>\n",
       "  </tbody>\n",
       "</table>\n",
       "</div>"
      ],
      "text/plain": [
       "                 ts number   pick_lat   pick_lng   drop_lat   drop_lng  \\\n",
       "0  07-04-2018 07:07  14626  12.313621  76.658195  12.287301  76.602280   \n",
       "1  07-04-2018 07:32  85490  12.943947  77.560745  12.954014  77.543770   \n",
       "2  07-04-2018 07:36   5408  12.899603  77.587300  12.934780  77.569950   \n",
       "3  07-04-2018 07:38  58940  12.918229  77.607544  12.968971  77.636375   \n",
       "4  07-04-2018 07:39   5408  12.899490  77.587270  12.934780  77.569950   \n",
       "\n",
       "     raw_date raw_time  \n",
       "0  07-04-2018    07:07  \n",
       "1  07-04-2018    07:32  \n",
       "2  07-04-2018    07:36  \n",
       "3  07-04-2018    07:38  \n",
       "4  07-04-2018    07:39  "
      ]
     },
     "execution_count": 8,
     "metadata": {},
     "output_type": "execute_result"
    }
   ],
   "source": [
    "new = data[\"ts\"].str.split(\" \", n = 1, expand = True) \n",
    "data[\"raw_date\"]= new[0] \n",
    "data[\"raw_time\"]= new[1] \n",
    "data.head()"
   ]
  },
  {
   "cell_type": "code",
   "execution_count": 9,
   "metadata": {},
   "outputs": [
    {
     "data": {
      "text/html": [
       "<div>\n",
       "<style scoped>\n",
       "    .dataframe tbody tr th:only-of-type {\n",
       "        vertical-align: middle;\n",
       "    }\n",
       "\n",
       "    .dataframe tbody tr th {\n",
       "        vertical-align: top;\n",
       "    }\n",
       "\n",
       "    .dataframe thead th {\n",
       "        text-align: right;\n",
       "    }\n",
       "</style>\n",
       "<table border=\"1\" class=\"dataframe\">\n",
       "  <thead>\n",
       "    <tr style=\"text-align: right;\">\n",
       "      <th></th>\n",
       "      <th>ts</th>\n",
       "      <th>number</th>\n",
       "      <th>pick_lat</th>\n",
       "      <th>pick_lng</th>\n",
       "      <th>drop_lat</th>\n",
       "      <th>drop_lng</th>\n",
       "      <th>raw_date</th>\n",
       "      <th>raw_time</th>\n",
       "      <th>year</th>\n",
       "      <th>month</th>\n",
       "      <th>date</th>\n",
       "    </tr>\n",
       "  </thead>\n",
       "  <tbody>\n",
       "    <tr>\n",
       "      <th>0</th>\n",
       "      <td>07-04-2018 07:07</td>\n",
       "      <td>14626</td>\n",
       "      <td>12.313621</td>\n",
       "      <td>76.658195</td>\n",
       "      <td>12.287301</td>\n",
       "      <td>76.602280</td>\n",
       "      <td>07-04-2018</td>\n",
       "      <td>07:07</td>\n",
       "      <td>07</td>\n",
       "      <td>04</td>\n",
       "      <td>2018</td>\n",
       "    </tr>\n",
       "    <tr>\n",
       "      <th>1</th>\n",
       "      <td>07-04-2018 07:32</td>\n",
       "      <td>85490</td>\n",
       "      <td>12.943947</td>\n",
       "      <td>77.560745</td>\n",
       "      <td>12.954014</td>\n",
       "      <td>77.543770</td>\n",
       "      <td>07-04-2018</td>\n",
       "      <td>07:32</td>\n",
       "      <td>07</td>\n",
       "      <td>04</td>\n",
       "      <td>2018</td>\n",
       "    </tr>\n",
       "    <tr>\n",
       "      <th>2</th>\n",
       "      <td>07-04-2018 07:36</td>\n",
       "      <td>5408</td>\n",
       "      <td>12.899603</td>\n",
       "      <td>77.587300</td>\n",
       "      <td>12.934780</td>\n",
       "      <td>77.569950</td>\n",
       "      <td>07-04-2018</td>\n",
       "      <td>07:36</td>\n",
       "      <td>07</td>\n",
       "      <td>04</td>\n",
       "      <td>2018</td>\n",
       "    </tr>\n",
       "    <tr>\n",
       "      <th>3</th>\n",
       "      <td>07-04-2018 07:38</td>\n",
       "      <td>58940</td>\n",
       "      <td>12.918229</td>\n",
       "      <td>77.607544</td>\n",
       "      <td>12.968971</td>\n",
       "      <td>77.636375</td>\n",
       "      <td>07-04-2018</td>\n",
       "      <td>07:38</td>\n",
       "      <td>07</td>\n",
       "      <td>04</td>\n",
       "      <td>2018</td>\n",
       "    </tr>\n",
       "    <tr>\n",
       "      <th>4</th>\n",
       "      <td>07-04-2018 07:39</td>\n",
       "      <td>5408</td>\n",
       "      <td>12.899490</td>\n",
       "      <td>77.587270</td>\n",
       "      <td>12.934780</td>\n",
       "      <td>77.569950</td>\n",
       "      <td>07-04-2018</td>\n",
       "      <td>07:39</td>\n",
       "      <td>07</td>\n",
       "      <td>04</td>\n",
       "      <td>2018</td>\n",
       "    </tr>\n",
       "  </tbody>\n",
       "</table>\n",
       "</div>"
      ],
      "text/plain": [
       "                 ts number   pick_lat   pick_lng   drop_lat   drop_lng  \\\n",
       "0  07-04-2018 07:07  14626  12.313621  76.658195  12.287301  76.602280   \n",
       "1  07-04-2018 07:32  85490  12.943947  77.560745  12.954014  77.543770   \n",
       "2  07-04-2018 07:36   5408  12.899603  77.587300  12.934780  77.569950   \n",
       "3  07-04-2018 07:38  58940  12.918229  77.607544  12.968971  77.636375   \n",
       "4  07-04-2018 07:39   5408  12.899490  77.587270  12.934780  77.569950   \n",
       "\n",
       "     raw_date raw_time year month  date  \n",
       "0  07-04-2018    07:07   07    04  2018  \n",
       "1  07-04-2018    07:32   07    04  2018  \n",
       "2  07-04-2018    07:36   07    04  2018  \n",
       "3  07-04-2018    07:38   07    04  2018  \n",
       "4  07-04-2018    07:39   07    04  2018  "
      ]
     },
     "execution_count": 9,
     "metadata": {},
     "output_type": "execute_result"
    }
   ],
   "source": [
    "new = data[\"raw_date\"].str.split(\"-\", n = 2, expand = True) \n",
    "data[\"year\"]= new[0] \n",
    "data[\"month\"]= new[1] \n",
    "data[\"date\"]= new[2] \n",
    "data.head()"
   ]
  },
  {
   "cell_type": "code",
   "execution_count": 10,
   "metadata": {},
   "outputs": [
    {
     "data": {
      "text/html": [
       "<div>\n",
       "<style scoped>\n",
       "    .dataframe tbody tr th:only-of-type {\n",
       "        vertical-align: middle;\n",
       "    }\n",
       "\n",
       "    .dataframe tbody tr th {\n",
       "        vertical-align: top;\n",
       "    }\n",
       "\n",
       "    .dataframe thead th {\n",
       "        text-align: right;\n",
       "    }\n",
       "</style>\n",
       "<table border=\"1\" class=\"dataframe\">\n",
       "  <thead>\n",
       "    <tr style=\"text-align: right;\">\n",
       "      <th></th>\n",
       "      <th>ts</th>\n",
       "      <th>number</th>\n",
       "      <th>pick_lat</th>\n",
       "      <th>pick_lng</th>\n",
       "      <th>drop_lat</th>\n",
       "      <th>drop_lng</th>\n",
       "      <th>raw_date</th>\n",
       "      <th>raw_time</th>\n",
       "      <th>year</th>\n",
       "      <th>month</th>\n",
       "      <th>date</th>\n",
       "      <th>hour</th>\n",
       "    </tr>\n",
       "  </thead>\n",
       "  <tbody>\n",
       "    <tr>\n",
       "      <th>0</th>\n",
       "      <td>07-04-2018 07:07</td>\n",
       "      <td>14626</td>\n",
       "      <td>12.313621</td>\n",
       "      <td>76.658195</td>\n",
       "      <td>12.287301</td>\n",
       "      <td>76.602280</td>\n",
       "      <td>07-04-2018</td>\n",
       "      <td>07:07</td>\n",
       "      <td>07</td>\n",
       "      <td>04</td>\n",
       "      <td>2018</td>\n",
       "      <td>07</td>\n",
       "    </tr>\n",
       "    <tr>\n",
       "      <th>1</th>\n",
       "      <td>07-04-2018 07:32</td>\n",
       "      <td>85490</td>\n",
       "      <td>12.943947</td>\n",
       "      <td>77.560745</td>\n",
       "      <td>12.954014</td>\n",
       "      <td>77.543770</td>\n",
       "      <td>07-04-2018</td>\n",
       "      <td>07:32</td>\n",
       "      <td>07</td>\n",
       "      <td>04</td>\n",
       "      <td>2018</td>\n",
       "      <td>07</td>\n",
       "    </tr>\n",
       "    <tr>\n",
       "      <th>2</th>\n",
       "      <td>07-04-2018 07:36</td>\n",
       "      <td>5408</td>\n",
       "      <td>12.899603</td>\n",
       "      <td>77.587300</td>\n",
       "      <td>12.934780</td>\n",
       "      <td>77.569950</td>\n",
       "      <td>07-04-2018</td>\n",
       "      <td>07:36</td>\n",
       "      <td>07</td>\n",
       "      <td>04</td>\n",
       "      <td>2018</td>\n",
       "      <td>07</td>\n",
       "    </tr>\n",
       "    <tr>\n",
       "      <th>3</th>\n",
       "      <td>07-04-2018 07:38</td>\n",
       "      <td>58940</td>\n",
       "      <td>12.918229</td>\n",
       "      <td>77.607544</td>\n",
       "      <td>12.968971</td>\n",
       "      <td>77.636375</td>\n",
       "      <td>07-04-2018</td>\n",
       "      <td>07:38</td>\n",
       "      <td>07</td>\n",
       "      <td>04</td>\n",
       "      <td>2018</td>\n",
       "      <td>07</td>\n",
       "    </tr>\n",
       "    <tr>\n",
       "      <th>4</th>\n",
       "      <td>07-04-2018 07:39</td>\n",
       "      <td>5408</td>\n",
       "      <td>12.899490</td>\n",
       "      <td>77.587270</td>\n",
       "      <td>12.934780</td>\n",
       "      <td>77.569950</td>\n",
       "      <td>07-04-2018</td>\n",
       "      <td>07:39</td>\n",
       "      <td>07</td>\n",
       "      <td>04</td>\n",
       "      <td>2018</td>\n",
       "      <td>07</td>\n",
       "    </tr>\n",
       "  </tbody>\n",
       "</table>\n",
       "</div>"
      ],
      "text/plain": [
       "                 ts number   pick_lat   pick_lng   drop_lat   drop_lng  \\\n",
       "0  07-04-2018 07:07  14626  12.313621  76.658195  12.287301  76.602280   \n",
       "1  07-04-2018 07:32  85490  12.943947  77.560745  12.954014  77.543770   \n",
       "2  07-04-2018 07:36   5408  12.899603  77.587300  12.934780  77.569950   \n",
       "3  07-04-2018 07:38  58940  12.918229  77.607544  12.968971  77.636375   \n",
       "4  07-04-2018 07:39   5408  12.899490  77.587270  12.934780  77.569950   \n",
       "\n",
       "     raw_date raw_time year month  date hour  \n",
       "0  07-04-2018    07:07   07    04  2018   07  \n",
       "1  07-04-2018    07:32   07    04  2018   07  \n",
       "2  07-04-2018    07:36   07    04  2018   07  \n",
       "3  07-04-2018    07:38   07    04  2018   07  \n",
       "4  07-04-2018    07:39   07    04  2018   07  "
      ]
     },
     "execution_count": 10,
     "metadata": {},
     "output_type": "execute_result"
    }
   ],
   "source": [
    "new = data[\"raw_time\"].str.split(\":\", n = 2, expand = True) \n",
    "data[\"hour\"]= new[0]\n",
    "data.head()"
   ]
  },
  {
   "cell_type": "code",
   "execution_count": 11,
   "metadata": {},
   "outputs": [
    {
     "data": {
      "text/html": [
       "<div>\n",
       "<style scoped>\n",
       "    .dataframe tbody tr th:only-of-type {\n",
       "        vertical-align: middle;\n",
       "    }\n",
       "\n",
       "    .dataframe tbody tr th {\n",
       "        vertical-align: top;\n",
       "    }\n",
       "\n",
       "    .dataframe thead th {\n",
       "        text-align: right;\n",
       "    }\n",
       "</style>\n",
       "<table border=\"1\" class=\"dataframe\">\n",
       "  <thead>\n",
       "    <tr style=\"text-align: right;\">\n",
       "      <th></th>\n",
       "      <th>ts</th>\n",
       "      <th>number</th>\n",
       "      <th>pick_lat</th>\n",
       "      <th>pick_lng</th>\n",
       "      <th>drop_lat</th>\n",
       "      <th>drop_lng</th>\n",
       "      <th>year</th>\n",
       "      <th>month</th>\n",
       "      <th>date</th>\n",
       "      <th>hour</th>\n",
       "    </tr>\n",
       "  </thead>\n",
       "  <tbody>\n",
       "    <tr>\n",
       "      <th>0</th>\n",
       "      <td>07-04-2018 07:07</td>\n",
       "      <td>14626</td>\n",
       "      <td>12.313621</td>\n",
       "      <td>76.658195</td>\n",
       "      <td>12.287301</td>\n",
       "      <td>76.602280</td>\n",
       "      <td>07</td>\n",
       "      <td>04</td>\n",
       "      <td>2018</td>\n",
       "      <td>07</td>\n",
       "    </tr>\n",
       "    <tr>\n",
       "      <th>1</th>\n",
       "      <td>07-04-2018 07:32</td>\n",
       "      <td>85490</td>\n",
       "      <td>12.943947</td>\n",
       "      <td>77.560745</td>\n",
       "      <td>12.954014</td>\n",
       "      <td>77.543770</td>\n",
       "      <td>07</td>\n",
       "      <td>04</td>\n",
       "      <td>2018</td>\n",
       "      <td>07</td>\n",
       "    </tr>\n",
       "    <tr>\n",
       "      <th>2</th>\n",
       "      <td>07-04-2018 07:36</td>\n",
       "      <td>5408</td>\n",
       "      <td>12.899603</td>\n",
       "      <td>77.587300</td>\n",
       "      <td>12.934780</td>\n",
       "      <td>77.569950</td>\n",
       "      <td>07</td>\n",
       "      <td>04</td>\n",
       "      <td>2018</td>\n",
       "      <td>07</td>\n",
       "    </tr>\n",
       "    <tr>\n",
       "      <th>3</th>\n",
       "      <td>07-04-2018 07:38</td>\n",
       "      <td>58940</td>\n",
       "      <td>12.918229</td>\n",
       "      <td>77.607544</td>\n",
       "      <td>12.968971</td>\n",
       "      <td>77.636375</td>\n",
       "      <td>07</td>\n",
       "      <td>04</td>\n",
       "      <td>2018</td>\n",
       "      <td>07</td>\n",
       "    </tr>\n",
       "    <tr>\n",
       "      <th>4</th>\n",
       "      <td>07-04-2018 07:39</td>\n",
       "      <td>5408</td>\n",
       "      <td>12.899490</td>\n",
       "      <td>77.587270</td>\n",
       "      <td>12.934780</td>\n",
       "      <td>77.569950</td>\n",
       "      <td>07</td>\n",
       "      <td>04</td>\n",
       "      <td>2018</td>\n",
       "      <td>07</td>\n",
       "    </tr>\n",
       "  </tbody>\n",
       "</table>\n",
       "</div>"
      ],
      "text/plain": [
       "                 ts number   pick_lat   pick_lng   drop_lat   drop_lng year  \\\n",
       "0  07-04-2018 07:07  14626  12.313621  76.658195  12.287301  76.602280   07   \n",
       "1  07-04-2018 07:32  85490  12.943947  77.560745  12.954014  77.543770   07   \n",
       "2  07-04-2018 07:36   5408  12.899603  77.587300  12.934780  77.569950   07   \n",
       "3  07-04-2018 07:38  58940  12.918229  77.607544  12.968971  77.636375   07   \n",
       "4  07-04-2018 07:39   5408  12.899490  77.587270  12.934780  77.569950   07   \n",
       "\n",
       "  month  date hour  \n",
       "0    04  2018   07  \n",
       "1    04  2018   07  \n",
       "2    04  2018   07  \n",
       "3    04  2018   07  \n",
       "4    04  2018   07  "
      ]
     },
     "execution_count": 11,
     "metadata": {},
     "output_type": "execute_result"
    }
   ],
   "source": [
    "data = data.copy()\n",
    "data.drop([\"raw_date\",\"raw_time\"],axis=1, inplace=True)\n",
    "data.head()"
   ]
  },
  {
   "cell_type": "markdown",
   "metadata": {},
   "source": [
    "# Function for finding the distance between two coordinates in Km in Pandas Dataframe"
   ]
  },
  {
   "cell_type": "code",
   "execution_count": 12,
   "metadata": {},
   "outputs": [],
   "source": [
    "def distance(pick_lat, pick_lng, drop_lat, drop_lng):\n",
    "    R = 6373.0\n",
    "    s_lat, s_lng, e_lat, e_lng = map(np.radians, [pick_lat, pick_lng, drop_lat, drop_lng])\n",
    "    d = np.sin((e_lat - s_lat) / 2)**2 + np.cos(s_lat) * np.cos(e_lat) * np.sin((e_lng - s_lng) / 2)**2\n",
    "    return round(2 * R * np.arcsin(np.sqrt(d)), 5)"
   ]
  },
  {
   "cell_type": "code",
   "execution_count": 13,
   "metadata": {},
   "outputs": [
    {
     "data": {
      "text/html": [
       "<div>\n",
       "<style scoped>\n",
       "    .dataframe tbody tr th:only-of-type {\n",
       "        vertical-align: middle;\n",
       "    }\n",
       "\n",
       "    .dataframe tbody tr th {\n",
       "        vertical-align: top;\n",
       "    }\n",
       "\n",
       "    .dataframe thead th {\n",
       "        text-align: right;\n",
       "    }\n",
       "</style>\n",
       "<table border=\"1\" class=\"dataframe\">\n",
       "  <thead>\n",
       "    <tr style=\"text-align: right;\">\n",
       "      <th></th>\n",
       "      <th>ts</th>\n",
       "      <th>number</th>\n",
       "      <th>pick_lat</th>\n",
       "      <th>pick_lng</th>\n",
       "      <th>drop_lat</th>\n",
       "      <th>drop_lng</th>\n",
       "      <th>year</th>\n",
       "      <th>month</th>\n",
       "      <th>date</th>\n",
       "      <th>hour</th>\n",
       "      <th>distance</th>\n",
       "    </tr>\n",
       "  </thead>\n",
       "  <tbody>\n",
       "    <tr>\n",
       "      <th>0</th>\n",
       "      <td>07-04-2018 07:07</td>\n",
       "      <td>14626</td>\n",
       "      <td>12.313621</td>\n",
       "      <td>76.658195</td>\n",
       "      <td>12.287301</td>\n",
       "      <td>76.602280</td>\n",
       "      <td>07</td>\n",
       "      <td>04</td>\n",
       "      <td>2018</td>\n",
       "      <td>07</td>\n",
       "      <td>6.74511</td>\n",
       "    </tr>\n",
       "    <tr>\n",
       "      <th>1</th>\n",
       "      <td>07-04-2018 07:32</td>\n",
       "      <td>85490</td>\n",
       "      <td>12.943947</td>\n",
       "      <td>77.560745</td>\n",
       "      <td>12.954014</td>\n",
       "      <td>77.543770</td>\n",
       "      <td>07</td>\n",
       "      <td>04</td>\n",
       "      <td>2018</td>\n",
       "      <td>07</td>\n",
       "      <td>2.15403</td>\n",
       "    </tr>\n",
       "    <tr>\n",
       "      <th>2</th>\n",
       "      <td>07-04-2018 07:36</td>\n",
       "      <td>5408</td>\n",
       "      <td>12.899603</td>\n",
       "      <td>77.587300</td>\n",
       "      <td>12.934780</td>\n",
       "      <td>77.569950</td>\n",
       "      <td>07</td>\n",
       "      <td>04</td>\n",
       "      <td>2018</td>\n",
       "      <td>07</td>\n",
       "      <td>4.34139</td>\n",
       "    </tr>\n",
       "    <tr>\n",
       "      <th>3</th>\n",
       "      <td>07-04-2018 07:38</td>\n",
       "      <td>58940</td>\n",
       "      <td>12.918229</td>\n",
       "      <td>77.607544</td>\n",
       "      <td>12.968971</td>\n",
       "      <td>77.636375</td>\n",
       "      <td>07</td>\n",
       "      <td>04</td>\n",
       "      <td>2018</td>\n",
       "      <td>07</td>\n",
       "      <td>6.45159</td>\n",
       "    </tr>\n",
       "    <tr>\n",
       "      <th>4</th>\n",
       "      <td>07-04-2018 07:39</td>\n",
       "      <td>5408</td>\n",
       "      <td>12.899490</td>\n",
       "      <td>77.587270</td>\n",
       "      <td>12.934780</td>\n",
       "      <td>77.569950</td>\n",
       "      <td>07</td>\n",
       "      <td>04</td>\n",
       "      <td>2018</td>\n",
       "      <td>07</td>\n",
       "      <td>4.35131</td>\n",
       "    </tr>\n",
       "  </tbody>\n",
       "</table>\n",
       "</div>"
      ],
      "text/plain": [
       "                 ts number   pick_lat   pick_lng   drop_lat   drop_lng year  \\\n",
       "0  07-04-2018 07:07  14626  12.313621  76.658195  12.287301  76.602280   07   \n",
       "1  07-04-2018 07:32  85490  12.943947  77.560745  12.954014  77.543770   07   \n",
       "2  07-04-2018 07:36   5408  12.899603  77.587300  12.934780  77.569950   07   \n",
       "3  07-04-2018 07:38  58940  12.918229  77.607544  12.968971  77.636375   07   \n",
       "4  07-04-2018 07:39   5408  12.899490  77.587270  12.934780  77.569950   07   \n",
       "\n",
       "  month  date hour  distance  \n",
       "0    04  2018   07   6.74511  \n",
       "1    04  2018   07   2.15403  \n",
       "2    04  2018   07   4.34139  \n",
       "3    04  2018   07   6.45159  \n",
       "4    04  2018   07   4.35131  "
      ]
     },
     "execution_count": 13,
     "metadata": {},
     "output_type": "execute_result"
    }
   ],
   "source": [
    "data[\"distance\"] = data.apply(lambda x: distance(x.pick_lat, x.pick_lng, x.drop_lat, x.drop_lng), axis=1)\n",
    "data.head()"
   ]
  },
  {
   "cell_type": "markdown",
   "metadata": {},
   "source": [
    "## Function for extracting session by timestamp"
   ]
  },
  {
   "cell_type": "code",
   "execution_count": 14,
   "metadata": {},
   "outputs": [],
   "source": [
    "data['hour'] = pd.to_numeric(data['hour'], errors='coerce')\n",
    "\n",
    "# Drop rows with NaN values in the 'hour' column\n",
    "data.dropna(subset=['hour'], inplace=True)\n",
    "\n",
    "b = [0,4,8,12,16,20,24]\n",
    "l = ['Late Night', 'Early Morning','Morning','AfterNoon','Evening','Night']\n",
    "data['session'] = pd.cut(data['hour'], bins=b, labels=l, include_lowest=True)"
   ]
  },
  {
   "cell_type": "markdown",
   "metadata": {},
   "source": [
    "## By Creating a User-defined Function"
   ]
  },
  {
   "cell_type": "code",
   "execution_count": 15,
   "metadata": {},
   "outputs": [],
   "source": [
    "def f(x):\n",
    "    if (x > 4) and (x <= 8):\n",
    "        return 'Early Morning'\n",
    "    elif (x > 8) and (x <= 12 ):\n",
    "        return 'Morning'\n",
    "    elif (x > 12) and (x <= 16):\n",
    "        return'AfterNoon'\n",
    "    elif (x > 16) and (x <= 20) :\n",
    "        return 'Evening'\n",
    "    elif (x > 20) and (x <= 24):\n",
    "        return'Night'\n",
    "    elif (x <= 4):\n",
    "        return'Late Night'\n",
    "\n",
    "data['session'] = data['hour'].apply(f)"
   ]
  },
  {
   "cell_type": "code",
   "execution_count": 16,
   "metadata": {},
   "outputs": [
    {
     "data": {
      "text/html": [
       "<div>\n",
       "<style scoped>\n",
       "    .dataframe tbody tr th:only-of-type {\n",
       "        vertical-align: middle;\n",
       "    }\n",
       "\n",
       "    .dataframe tbody tr th {\n",
       "        vertical-align: top;\n",
       "    }\n",
       "\n",
       "    .dataframe thead th {\n",
       "        text-align: right;\n",
       "    }\n",
       "</style>\n",
       "<table border=\"1\" class=\"dataframe\">\n",
       "  <thead>\n",
       "    <tr style=\"text-align: right;\">\n",
       "      <th></th>\n",
       "      <th>ts</th>\n",
       "      <th>number</th>\n",
       "      <th>pick_lat</th>\n",
       "      <th>pick_lng</th>\n",
       "      <th>drop_lat</th>\n",
       "      <th>drop_lng</th>\n",
       "      <th>year</th>\n",
       "      <th>month</th>\n",
       "      <th>date</th>\n",
       "      <th>hour</th>\n",
       "      <th>distance</th>\n",
       "      <th>session</th>\n",
       "    </tr>\n",
       "  </thead>\n",
       "  <tbody>\n",
       "    <tr>\n",
       "      <th>0</th>\n",
       "      <td>07-04-2018 07:07</td>\n",
       "      <td>14626</td>\n",
       "      <td>12.313621</td>\n",
       "      <td>76.658195</td>\n",
       "      <td>12.287301</td>\n",
       "      <td>76.602280</td>\n",
       "      <td>07</td>\n",
       "      <td>04</td>\n",
       "      <td>2018</td>\n",
       "      <td>7</td>\n",
       "      <td>6.74511</td>\n",
       "      <td>Early Morning</td>\n",
       "    </tr>\n",
       "    <tr>\n",
       "      <th>1</th>\n",
       "      <td>07-04-2018 07:32</td>\n",
       "      <td>85490</td>\n",
       "      <td>12.943947</td>\n",
       "      <td>77.560745</td>\n",
       "      <td>12.954014</td>\n",
       "      <td>77.543770</td>\n",
       "      <td>07</td>\n",
       "      <td>04</td>\n",
       "      <td>2018</td>\n",
       "      <td>7</td>\n",
       "      <td>2.15403</td>\n",
       "      <td>Early Morning</td>\n",
       "    </tr>\n",
       "    <tr>\n",
       "      <th>2</th>\n",
       "      <td>07-04-2018 07:36</td>\n",
       "      <td>5408</td>\n",
       "      <td>12.899603</td>\n",
       "      <td>77.587300</td>\n",
       "      <td>12.934780</td>\n",
       "      <td>77.569950</td>\n",
       "      <td>07</td>\n",
       "      <td>04</td>\n",
       "      <td>2018</td>\n",
       "      <td>7</td>\n",
       "      <td>4.34139</td>\n",
       "      <td>Early Morning</td>\n",
       "    </tr>\n",
       "    <tr>\n",
       "      <th>3</th>\n",
       "      <td>07-04-2018 07:38</td>\n",
       "      <td>58940</td>\n",
       "      <td>12.918229</td>\n",
       "      <td>77.607544</td>\n",
       "      <td>12.968971</td>\n",
       "      <td>77.636375</td>\n",
       "      <td>07</td>\n",
       "      <td>04</td>\n",
       "      <td>2018</td>\n",
       "      <td>7</td>\n",
       "      <td>6.45159</td>\n",
       "      <td>Early Morning</td>\n",
       "    </tr>\n",
       "    <tr>\n",
       "      <th>4</th>\n",
       "      <td>07-04-2018 07:39</td>\n",
       "      <td>5408</td>\n",
       "      <td>12.899490</td>\n",
       "      <td>77.587270</td>\n",
       "      <td>12.934780</td>\n",
       "      <td>77.569950</td>\n",
       "      <td>07</td>\n",
       "      <td>04</td>\n",
       "      <td>2018</td>\n",
       "      <td>7</td>\n",
       "      <td>4.35131</td>\n",
       "      <td>Early Morning</td>\n",
       "    </tr>\n",
       "    <tr>\n",
       "      <th>...</th>\n",
       "      <td>...</td>\n",
       "      <td>...</td>\n",
       "      <td>...</td>\n",
       "      <td>...</td>\n",
       "      <td>...</td>\n",
       "      <td>...</td>\n",
       "      <td>...</td>\n",
       "      <td>...</td>\n",
       "      <td>...</td>\n",
       "      <td>...</td>\n",
       "      <td>...</td>\n",
       "      <td>...</td>\n",
       "    </tr>\n",
       "    <tr>\n",
       "      <th>1048570</th>\n",
       "      <td>06-08-2018 15:08</td>\n",
       "      <td>83286</td>\n",
       "      <td>12.907205</td>\n",
       "      <td>77.628550</td>\n",
       "      <td>12.958899</td>\n",
       "      <td>77.660980</td>\n",
       "      <td>06</td>\n",
       "      <td>08</td>\n",
       "      <td>2018</td>\n",
       "      <td>15</td>\n",
       "      <td>6.73955</td>\n",
       "      <td>AfterNoon</td>\n",
       "    </tr>\n",
       "    <tr>\n",
       "      <th>1048571</th>\n",
       "      <td>06-08-2018 15:09</td>\n",
       "      <td>57723</td>\n",
       "      <td>12.970593</td>\n",
       "      <td>77.656170</td>\n",
       "      <td>12.982676</td>\n",
       "      <td>77.693140</td>\n",
       "      <td>06</td>\n",
       "      <td>08</td>\n",
       "      <td>2018</td>\n",
       "      <td>15</td>\n",
       "      <td>4.22655</td>\n",
       "      <td>AfterNoon</td>\n",
       "    </tr>\n",
       "    <tr>\n",
       "      <th>1048572</th>\n",
       "      <td>06-08-2018 15:09</td>\n",
       "      <td>83286</td>\n",
       "      <td>12.907235</td>\n",
       "      <td>77.628570</td>\n",
       "      <td>12.958899</td>\n",
       "      <td>77.660980</td>\n",
       "      <td>06</td>\n",
       "      <td>08</td>\n",
       "      <td>2018</td>\n",
       "      <td>15</td>\n",
       "      <td>6.73557</td>\n",
       "      <td>AfterNoon</td>\n",
       "    </tr>\n",
       "    <tr>\n",
       "      <th>1048573</th>\n",
       "      <td>06-08-2018 15:12</td>\n",
       "      <td>70034</td>\n",
       "      <td>12.917923</td>\n",
       "      <td>77.613700</td>\n",
       "      <td>12.908604</td>\n",
       "      <td>77.610680</td>\n",
       "      <td>06</td>\n",
       "      <td>08</td>\n",
       "      <td>2018</td>\n",
       "      <td>15</td>\n",
       "      <td>1.08703</td>\n",
       "      <td>AfterNoon</td>\n",
       "    </tr>\n",
       "    <tr>\n",
       "      <th>1048574</th>\n",
       "      <td>06-08-2018 15:12</td>\n",
       "      <td>70034</td>\n",
       "      <td>12.917923</td>\n",
       "      <td>77.613700</td>\n",
       "      <td>12.908604</td>\n",
       "      <td>77.610680</td>\n",
       "      <td>06</td>\n",
       "      <td>08</td>\n",
       "      <td>2018</td>\n",
       "      <td>15</td>\n",
       "      <td>1.08703</td>\n",
       "      <td>AfterNoon</td>\n",
       "    </tr>\n",
       "  </tbody>\n",
       "</table>\n",
       "<p>1048575 rows × 12 columns</p>\n",
       "</div>"
      ],
      "text/plain": [
       "                       ts number   pick_lat   pick_lng   drop_lat   drop_lng  \\\n",
       "0        07-04-2018 07:07  14626  12.313621  76.658195  12.287301  76.602280   \n",
       "1        07-04-2018 07:32  85490  12.943947  77.560745  12.954014  77.543770   \n",
       "2        07-04-2018 07:36   5408  12.899603  77.587300  12.934780  77.569950   \n",
       "3        07-04-2018 07:38  58940  12.918229  77.607544  12.968971  77.636375   \n",
       "4        07-04-2018 07:39   5408  12.899490  77.587270  12.934780  77.569950   \n",
       "...                   ...    ...        ...        ...        ...        ...   \n",
       "1048570  06-08-2018 15:08  83286  12.907205  77.628550  12.958899  77.660980   \n",
       "1048571  06-08-2018 15:09  57723  12.970593  77.656170  12.982676  77.693140   \n",
       "1048572  06-08-2018 15:09  83286  12.907235  77.628570  12.958899  77.660980   \n",
       "1048573  06-08-2018 15:12  70034  12.917923  77.613700  12.908604  77.610680   \n",
       "1048574  06-08-2018 15:12  70034  12.917923  77.613700  12.908604  77.610680   \n",
       "\n",
       "        year month  date  hour  distance        session  \n",
       "0         07    04  2018     7   6.74511  Early Morning  \n",
       "1         07    04  2018     7   2.15403  Early Morning  \n",
       "2         07    04  2018     7   4.34139  Early Morning  \n",
       "3         07    04  2018     7   6.45159  Early Morning  \n",
       "4         07    04  2018     7   4.35131  Early Morning  \n",
       "...      ...   ...   ...   ...       ...            ...  \n",
       "1048570   06    08  2018    15   6.73955      AfterNoon  \n",
       "1048571   06    08  2018    15   4.22655      AfterNoon  \n",
       "1048572   06    08  2018    15   6.73557      AfterNoon  \n",
       "1048573   06    08  2018    15   1.08703      AfterNoon  \n",
       "1048574   06    08  2018    15   1.08703      AfterNoon  \n",
       "\n",
       "[1048575 rows x 12 columns]"
      ]
     },
     "execution_count": 16,
     "metadata": {},
     "output_type": "execute_result"
    }
   ],
   "source": [
    "data"
   ]
  },
  {
   "cell_type": "markdown",
   "metadata": {},
   "source": [
    "## Plotting of Graph to show the distance"
   ]
  },
  {
   "cell_type": "code",
   "execution_count": 62,
   "metadata": {},
   "outputs": [
    {
     "data": {
      "text/plain": [
       "<Axes: xlabel='distance'>"
      ]
     },
     "execution_count": 62,
     "metadata": {},
     "output_type": "execute_result"
    },
    {
     "data": {
      "image/png": "[encoded data removed]",
      "text/plain": [
       "<Figure size 640x480 with 1 Axes>"
      ]
     },
     "metadata": {},
     "output_type": "display_data"
    }
   ],
   "source": [
    "sns.boxplot(x=data['distance'].head(1000))"
   ]
  },
  {
   "cell_type": "code",
   "execution_count": 63,
   "metadata": {},
   "outputs": [
    {
     "data": {
      "text/plain": [
       "(17259.26804, 0.0, 7.878171888395972)"
      ]
     },
     "execution_count": 63,
     "metadata": {},
     "output_type": "execute_result"
    }
   ],
   "source": [
    "data['distance'].max(), data['distance'].min(), data['distance'].mean()"
   ]
  },
  {
   "cell_type": "markdown",
   "metadata": {},
   "source": [
    "### Observation: There are Outliers present in the distance column, so remove it."
   ]
  },
  {
   "cell_type": "code",
   "execution_count": 17,
   "metadata": {},
   "outputs": [
    {
     "data": {
      "text/html": [
       "<div>\n",
       "<style scoped>\n",
       "    .dataframe tbody tr th:only-of-type {\n",
       "        vertical-align: middle;\n",
       "    }\n",
       "\n",
       "    .dataframe tbody tr th {\n",
       "        vertical-align: top;\n",
       "    }\n",
       "\n",
       "    .dataframe thead th {\n",
       "        text-align: right;\n",
       "    }\n",
       "</style>\n",
       "<table border=\"1\" class=\"dataframe\">\n",
       "  <thead>\n",
       "    <tr style=\"text-align: right;\">\n",
       "      <th></th>\n",
       "      <th>ts</th>\n",
       "      <th>number</th>\n",
       "      <th>pick_lat</th>\n",
       "      <th>pick_lng</th>\n",
       "      <th>drop_lat</th>\n",
       "      <th>drop_lng</th>\n",
       "      <th>year</th>\n",
       "      <th>month</th>\n",
       "      <th>date</th>\n",
       "      <th>hour</th>\n",
       "      <th>distance</th>\n",
       "      <th>session</th>\n",
       "    </tr>\n",
       "  </thead>\n",
       "  <tbody>\n",
       "    <tr>\n",
       "      <th>0</th>\n",
       "      <td>07-04-2018 07:07</td>\n",
       "      <td>14626</td>\n",
       "      <td>12.313621</td>\n",
       "      <td>76.658195</td>\n",
       "      <td>12.287301</td>\n",
       "      <td>76.602280</td>\n",
       "      <td>07</td>\n",
       "      <td>04</td>\n",
       "      <td>2018</td>\n",
       "      <td>7</td>\n",
       "      <td>6.74511</td>\n",
       "      <td>Early Morning</td>\n",
       "    </tr>\n",
       "    <tr>\n",
       "      <th>1</th>\n",
       "      <td>07-04-2018 07:32</td>\n",
       "      <td>85490</td>\n",
       "      <td>12.943947</td>\n",
       "      <td>77.560745</td>\n",
       "      <td>12.954014</td>\n",
       "      <td>77.543770</td>\n",
       "      <td>07</td>\n",
       "      <td>04</td>\n",
       "      <td>2018</td>\n",
       "      <td>7</td>\n",
       "      <td>2.15403</td>\n",
       "      <td>Early Morning</td>\n",
       "    </tr>\n",
       "    <tr>\n",
       "      <th>2</th>\n",
       "      <td>07-04-2018 07:36</td>\n",
       "      <td>5408</td>\n",
       "      <td>12.899603</td>\n",
       "      <td>77.587300</td>\n",
       "      <td>12.934780</td>\n",
       "      <td>77.569950</td>\n",
       "      <td>07</td>\n",
       "      <td>04</td>\n",
       "      <td>2018</td>\n",
       "      <td>7</td>\n",
       "      <td>4.34139</td>\n",
       "      <td>Early Morning</td>\n",
       "    </tr>\n",
       "    <tr>\n",
       "      <th>3</th>\n",
       "      <td>07-04-2018 07:38</td>\n",
       "      <td>58940</td>\n",
       "      <td>12.918229</td>\n",
       "      <td>77.607544</td>\n",
       "      <td>12.968971</td>\n",
       "      <td>77.636375</td>\n",
       "      <td>07</td>\n",
       "      <td>04</td>\n",
       "      <td>2018</td>\n",
       "      <td>7</td>\n",
       "      <td>6.45159</td>\n",
       "      <td>Early Morning</td>\n",
       "    </tr>\n",
       "    <tr>\n",
       "      <th>4</th>\n",
       "      <td>07-04-2018 07:39</td>\n",
       "      <td>5408</td>\n",
       "      <td>12.899490</td>\n",
       "      <td>77.587270</td>\n",
       "      <td>12.934780</td>\n",
       "      <td>77.569950</td>\n",
       "      <td>07</td>\n",
       "      <td>04</td>\n",
       "      <td>2018</td>\n",
       "      <td>7</td>\n",
       "      <td>4.35131</td>\n",
       "      <td>Early Morning</td>\n",
       "    </tr>\n",
       "    <tr>\n",
       "      <th>5</th>\n",
       "      <td>07-04-2018 07:43</td>\n",
       "      <td>5408</td>\n",
       "      <td>12.899421</td>\n",
       "      <td>77.587326</td>\n",
       "      <td>12.934780</td>\n",
       "      <td>77.569950</td>\n",
       "      <td>07</td>\n",
       "      <td>04</td>\n",
       "      <td>2018</td>\n",
       "      <td>7</td>\n",
       "      <td>4.36086</td>\n",
       "      <td>Early Morning</td>\n",
       "    </tr>\n",
       "    <tr>\n",
       "      <th>6</th>\n",
       "      <td>07-04-2018 07:43</td>\n",
       "      <td>50266</td>\n",
       "      <td>12.898679</td>\n",
       "      <td>77.604340</td>\n",
       "      <td>12.877949</td>\n",
       "      <td>77.595900</td>\n",
       "      <td>07</td>\n",
       "      <td>04</td>\n",
       "      <td>2018</td>\n",
       "      <td>7</td>\n",
       "      <td>2.48076</td>\n",
       "      <td>Early Morning</td>\n",
       "    </tr>\n",
       "    <tr>\n",
       "      <th>7</th>\n",
       "      <td>07-04-2018 07:52</td>\n",
       "      <td>58940</td>\n",
       "      <td>12.918229</td>\n",
       "      <td>77.607544</td>\n",
       "      <td>12.968971</td>\n",
       "      <td>77.636375</td>\n",
       "      <td>07</td>\n",
       "      <td>04</td>\n",
       "      <td>2018</td>\n",
       "      <td>7</td>\n",
       "      <td>6.45159</td>\n",
       "      <td>Early Morning</td>\n",
       "    </tr>\n",
       "    <tr>\n",
       "      <th>8</th>\n",
       "      <td>07-04-2018 07:52</td>\n",
       "      <td>58940</td>\n",
       "      <td>12.918229</td>\n",
       "      <td>77.607544</td>\n",
       "      <td>12.968971</td>\n",
       "      <td>77.636375</td>\n",
       "      <td>07</td>\n",
       "      <td>04</td>\n",
       "      <td>2018</td>\n",
       "      <td>7</td>\n",
       "      <td>6.45159</td>\n",
       "      <td>Early Morning</td>\n",
       "    </tr>\n",
       "    <tr>\n",
       "      <th>9</th>\n",
       "      <td>07-04-2018 07:53</td>\n",
       "      <td>28126</td>\n",
       "      <td>12.911840</td>\n",
       "      <td>77.602250</td>\n",
       "      <td>12.940866</td>\n",
       "      <td>77.540710</td>\n",
       "      <td>07</td>\n",
       "      <td>04</td>\n",
       "      <td>2018</td>\n",
       "      <td>7</td>\n",
       "      <td>7.41175</td>\n",
       "      <td>Early Morning</td>\n",
       "    </tr>\n",
       "    <tr>\n",
       "      <th>10</th>\n",
       "      <td>07-04-2018 07:55</td>\n",
       "      <td>99251</td>\n",
       "      <td>12.874660</td>\n",
       "      <td>77.619510</td>\n",
       "      <td>12.896871</td>\n",
       "      <td>77.608470</td>\n",
       "      <td>07</td>\n",
       "      <td>04</td>\n",
       "      <td>2018</td>\n",
       "      <td>7</td>\n",
       "      <td>2.74526</td>\n",
       "      <td>Early Morning</td>\n",
       "    </tr>\n",
       "    <tr>\n",
       "      <th>11</th>\n",
       "      <td>07-04-2018 07:55</td>\n",
       "      <td>99251</td>\n",
       "      <td>12.874660</td>\n",
       "      <td>77.619510</td>\n",
       "      <td>12.896871</td>\n",
       "      <td>77.608470</td>\n",
       "      <td>07</td>\n",
       "      <td>04</td>\n",
       "      <td>2018</td>\n",
       "      <td>7</td>\n",
       "      <td>2.74526</td>\n",
       "      <td>Early Morning</td>\n",
       "    </tr>\n",
       "    <tr>\n",
       "      <th>12</th>\n",
       "      <td>07-04-2018 08:00</td>\n",
       "      <td>34808</td>\n",
       "      <td>12.989711</td>\n",
       "      <td>77.653810</td>\n",
       "      <td>12.939158</td>\n",
       "      <td>77.734670</td>\n",
       "      <td>07</td>\n",
       "      <td>04</td>\n",
       "      <td>2018</td>\n",
       "      <td>8</td>\n",
       "      <td>10.41343</td>\n",
       "      <td>Early Morning</td>\n",
       "    </tr>\n",
       "    <tr>\n",
       "      <th>13</th>\n",
       "      <td>07-04-2018 08:00</td>\n",
       "      <td>34808</td>\n",
       "      <td>12.989711</td>\n",
       "      <td>77.653810</td>\n",
       "      <td>12.939158</td>\n",
       "      <td>77.734670</td>\n",
       "      <td>07</td>\n",
       "      <td>04</td>\n",
       "      <td>2018</td>\n",
       "      <td>8</td>\n",
       "      <td>10.41343</td>\n",
       "      <td>Early Morning</td>\n",
       "    </tr>\n",
       "    <tr>\n",
       "      <th>14</th>\n",
       "      <td>07-04-2018 08:03</td>\n",
       "      <td>89714</td>\n",
       "      <td>12.868537</td>\n",
       "      <td>77.653040</td>\n",
       "      <td>12.972006</td>\n",
       "      <td>77.594870</td>\n",
       "      <td>07</td>\n",
       "      <td>04</td>\n",
       "      <td>2018</td>\n",
       "      <td>8</td>\n",
       "      <td>13.12343</td>\n",
       "      <td>Early Morning</td>\n",
       "    </tr>\n",
       "  </tbody>\n",
       "</table>\n",
       "</div>"
      ],
      "text/plain": [
       "                  ts number   pick_lat   pick_lng   drop_lat   drop_lng year  \\\n",
       "0   07-04-2018 07:07  14626  12.313621  76.658195  12.287301  76.602280   07   \n",
       "1   07-04-2018 07:32  85490  12.943947  77.560745  12.954014  77.543770   07   \n",
       "2   07-04-2018 07:36   5408  12.899603  77.587300  12.934780  77.569950   07   \n",
       "3   07-04-2018 07:38  58940  12.918229  77.607544  12.968971  77.636375   07   \n",
       "4   07-04-2018 07:39   5408  12.899490  77.587270  12.934780  77.569950   07   \n",
       "5   07-04-2018 07:43   5408  12.899421  77.587326  12.934780  77.569950   07   \n",
       "6   07-04-2018 07:43  50266  12.898679  77.604340  12.877949  77.595900   07   \n",
       "7   07-04-2018 07:52  58940  12.918229  77.607544  12.968971  77.636375   07   \n",
       "8   07-04-2018 07:52  58940  12.918229  77.607544  12.968971  77.636375   07   \n",
       "9   07-04-2018 07:53  28126  12.911840  77.602250  12.940866  77.540710   07   \n",
       "10  07-04-2018 07:55  99251  12.874660  77.619510  12.896871  77.608470   07   \n",
       "11  07-04-2018 07:55  99251  12.874660  77.619510  12.896871  77.608470   07   \n",
       "12  07-04-2018 08:00  34808  12.989711  77.653810  12.939158  77.734670   07   \n",
       "13  07-04-2018 08:00  34808  12.989711  77.653810  12.939158  77.734670   07   \n",
       "14  07-04-2018 08:03  89714  12.868537  77.653040  12.972006  77.594870   07   \n",
       "\n",
       "   month  date  hour  distance        session  \n",
       "0     04  2018     7   6.74511  Early Morning  \n",
       "1     04  2018     7   2.15403  Early Morning  \n",
       "2     04  2018     7   4.34139  Early Morning  \n",
       "3     04  2018     7   6.45159  Early Morning  \n",
       "4     04  2018     7   4.35131  Early Morning  \n",
       "5     04  2018     7   4.36086  Early Morning  \n",
       "6     04  2018     7   2.48076  Early Morning  \n",
       "7     04  2018     7   6.45159  Early Morning  \n",
       "8     04  2018     7   6.45159  Early Morning  \n",
       "9     04  2018     7   7.41175  Early Morning  \n",
       "10    04  2018     7   2.74526  Early Morning  \n",
       "11    04  2018     7   2.74526  Early Morning  \n",
       "12    04  2018     8  10.41343  Early Morning  \n",
       "13    04  2018     8  10.41343  Early Morning  \n",
       "14    04  2018     8  13.12343  Early Morning  "
      ]
     },
     "execution_count": 17,
     "metadata": {},
     "output_type": "execute_result"
    }
   ],
   "source": [
    "index_Distance = data[ (data['distance'] >= 12) & (data['distance'] == 0.0) ].index\n",
    "data.drop(index_Distance , inplace=True)\n",
    "data.head(15)"
   ]
  },
  {
   "cell_type": "code",
   "execution_count": 18,
   "metadata": {},
   "outputs": [
    {
     "data": {
      "text/plain": [
       "session\n",
       "Morning          343422\n",
       "Evening          318645\n",
       "AfterNoon        178358\n",
       "Night            102485\n",
       "Early Morning     99266\n",
       "Late Night         6399\n",
       "Name: count, dtype: int64"
      ]
     },
     "execution_count": 18,
     "metadata": {},
     "output_type": "execute_result"
    }
   ],
   "source": [
    "data['session'].value_counts()"
   ]
  },
  {
   "cell_type": "code",
   "execution_count": 68,
   "metadata": {},
   "outputs": [
    {
     "data": {
      "text/plain": [
       "<Axes: xlabel='session', ylabel='count'>"
      ]
     },
     "execution_count": 68,
     "metadata": {},
     "output_type": "execute_result"
    },
    {
     "data": {
      "image/png": "[encoded data removed]",
      "text/plain": [
       "<Figure size 640x480 with 1 Axes>"
      ]
     },
     "metadata": {},
     "output_type": "display_data"
    }
   ],
   "source": [
    "sns.countplot(x= data['session'])"
   ]
  },
  {
   "cell_type": "markdown",
   "metadata": {},
   "source": [
    "Observation: Graph shows that the most busiest session is Morning and Evening bcz most office-going people use rides at that time\n"
   ]
  },
  {
   "cell_type": "code",
   "execution_count": 72,
   "metadata": {},
   "outputs": [
    {
     "data": {
      "text/plain": [
       "<Axes: xlabel='session'>"
      ]
     },
     "execution_count": 72,
     "metadata": {},
     "output_type": "execute_result"
    },
    {
     "data": {
      "image/png": "[encoded data removed]",
      "text/plain": [
       "<Figure size 640x480 with 1 Axes>"
      ]
     },
     "metadata": {},
     "output_type": "display_data"
    }
   ],
   "source": [
    "sns.violinplot(x='session', y=None, data=data)\n"
   ]
  },
  {
   "cell_type": "code",
   "execution_count": 74,
   "metadata": {},
   "outputs": [
    {
     "data": {
      "text/plain": [
       "<Axes: xlabel='session'>"
      ]
     },
     "execution_count": 74,
     "metadata": {},
     "output_type": "execute_result"
    },
    {
     "data": {
      "image/png": "[encoded data removed]",
      "text/plain": [
       "<Figure size 640x480 with 1 Axes>"
      ]
     },
     "metadata": {},
     "output_type": "display_data"
    }
   ],
   "source": [
    "sns.stripplot(x='session', y=None, data=data)\n"
   ]
  },
  {
   "cell_type": "code",
   "execution_count": 19,
   "metadata": {},
   "outputs": [
    {
     "data": {
      "text/plain": [
       "<Axes: xlabel='hour', ylabel='Count'>"
      ]
     },
     "execution_count": 19,
     "metadata": {},
     "output_type": "execute_result"
    },
    {
     "data": {
      "image/png": "[encoded data removed]",
      "text/plain": [
       "<Figure size 640x480 with 1 Axes>"
      ]
     },
     "metadata": {},
     "output_type": "display_data"
    }
   ],
   "source": [
    "\n",
    "sns.histplot(data=data,x=data.hour,bins=30,binwidth=1,hue=data.session)"
   ]
  },
  {
   "cell_type": "code",
   "execution_count": 28,
   "metadata": {},
   "outputs": [
    {
     "data": {
      "text/plain": [
       "month\n",
       "04    209281\n",
       "05    246228\n",
       "06    263027\n",
       "07    282412\n",
       "08     47627\n",
       "Name: count, dtype: int64"
      ]
     },
     "execution_count": 28,
     "metadata": {},
     "output_type": "execute_result"
    }
   ],
   "source": [
    "data['month'].value_counts().sort_index()"
   ]
  },
  {
   "cell_type": "code",
   "execution_count": 39,
   "metadata": {},
   "outputs": [
    {
     "name": "stderr",
     "output_type": "stream",
     "text": [
      "C:\\Users\\DELL\\AppData\\Local\\Temp\\ipykernel_18092\\1651839233.py:3: FutureWarning: \n",
      "\n",
      "Passing `palette` without assigning `hue` is deprecated and will be removed in v0.14.0. Assign the `x` variable to `hue` and set `legend=False` for the same effect.\n",
      "\n",
      "  sns.countplot(data=data, x= 'month',order=data['month'].value_counts().index.sort_values(),width=0.6,palette=custom_palette)\n",
      "C:\\Users\\DELL\\AppData\\Local\\Temp\\ipykernel_18092\\1651839233.py:3: UserWarning: The palette list has more values (8) than needed (5), which may not be intended.\n",
      "  sns.countplot(data=data, x= 'month',order=data['month'].value_counts().index.sort_values(),width=0.6,palette=custom_palette)\n"
     ]
    },
    {
     "data": {
      "text/plain": [
       "<Axes: xlabel='month', ylabel='count'>"
      ]
     },
     "execution_count": 39,
     "metadata": {},
     "output_type": "execute_result"
    },
    {
     "data": {
      "image/png": "[encoded data removed]",
      "text/plain": [
       "<Figure size 1000x400 with 1 Axes>"
      ]
     },
     "metadata": {},
     "output_type": "display_data"
    }
   ],
   "source": [
    "custom_palette = sns.color_palette(\"Set2\")\n",
    "plt.figure(figsize=(10, 4))\n",
    "sns.countplot(data=data, x= 'month',order=data['month'].value_counts().index.sort_values(),width=0.6,palette=custom_palette)"
   ]
  },
  {
   "cell_type": "code",
   "execution_count": null,
   "metadata": {},
   "outputs": [],
   "source": []
  }
 ],
 "metadata": {
  "kernelspec": {
   "display_name": "Python 3",
   "language": "python",
   "name": "python3"
  },
  "language_info": {
   "codemirror_mode": {
    "name": "ipython",
    "version": 3
   },
   "file_extension": ".py",
   "mimetype": "text/x-python",
   "name": "python",
   "nbconvert_exporter": "python",
   "pygments_lexer": "ipython3",
   "version": "3.9.11"
  }
 },
 "nbformat": 4,
 "nbformat_minor": 2
}
