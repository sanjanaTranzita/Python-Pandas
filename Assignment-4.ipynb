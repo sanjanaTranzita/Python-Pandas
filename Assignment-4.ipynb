{
 "cells": [
  {
   "cell_type": "code",
   "execution_count": 2,
   "metadata": {},
   "outputs": [
    {
     "name": "stdout",
     "output_type": "stream",
     "text": [
      "Requirement already satisfied: pandas in c:\\users\\dell\\appdata\\local\\programs\\python\\python39\\lib\\site-packages (2.2.2)\n",
      "Requirement already satisfied: pytz>=2020.1 in c:\\users\\dell\\appdata\\local\\programs\\python\\python39\\lib\\site-packages (from pandas) (2024.1)\n",
      "Requirement already satisfied: python-dateutil>=2.8.2 in c:\\users\\dell\\appdata\\roaming\\python\\python39\\site-packages (from pandas) (2.9.0.post0)\n",
      "Requirement already satisfied: numpy>=1.22.4 in c:\\users\\dell\\appdata\\local\\programs\\python\\python39\\lib\\site-packages (from pandas) (1.26.4)\n",
      "Requirement already satisfied: tzdata>=2022.7 in c:\\users\\dell\\appdata\\local\\programs\\python\\python39\\lib\\site-packages (from pandas) (2024.1)\n",
      "Requirement already satisfied: six>=1.5 in c:\\users\\dell\\appdata\\roaming\\python\\python39\\site-packages (from python-dateutil>=2.8.2->pandas) (1.16.0)\n",
      "Note: you may need to restart the kernel to use updated packages.\n"
     ]
    },
    {
     "name": "stderr",
     "output_type": "stream",
     "text": [
      "WARNING: You are using pip version 22.0.4; however, version 24.0 is available.\n",
      "You should consider upgrading via the 'c:\\Users\\DELL\\AppData\\Local\\Programs\\Python\\Python39\\python.exe -m pip install --upgrade pip' command.\n"
     ]
    }
   ],
   "source": [
    "pip install pandas"
   ]
  },
  {
   "cell_type": "code",
   "execution_count": 3,
   "metadata": {},
   "outputs": [],
   "source": [
    "import pandas as pd"
   ]
  },
  {
   "cell_type": "code",
   "execution_count": 4,
   "metadata": {},
   "outputs": [
    {
     "name": "stdout",
     "output_type": "stream",
     "text": [
      "Requirement already satisfied: matplotlib in c:\\users\\dell\\appdata\\local\\programs\\python\\python39\\lib\\site-packages (3.9.0)\n",
      "Requirement already satisfied: numpy>=1.23 in c:\\users\\dell\\appdata\\local\\programs\\python\\python39\\lib\\site-packages (from matplotlib) (1.26.4)\n",
      "Requirement already satisfied: pillow>=8 in c:\\users\\dell\\appdata\\local\\programs\\python\\python39\\lib\\site-packages (from matplotlib) (10.3.0)\n",
      "Requirement already satisfied: fonttools>=4.22.0 in c:\\users\\dell\\appdata\\local\\programs\\python\\python39\\lib\\site-packages (from matplotlib) (4.52.4)\n",
      "Requirement already satisfied: contourpy>=1.0.1 in c:\\users\\dell\\appdata\\local\\programs\\python\\python39\\lib\\site-packages (from matplotlib) (1.2.1)\n",
      "Requirement already satisfied: kiwisolver>=1.3.1 in c:\\users\\dell\\appdata\\local\\programs\\python\\python39\\lib\\site-packages (from matplotlib) (1.4.5)\n",
      "Requirement already satisfied: pyparsing>=2.3.1 in c:\\users\\dell\\appdata\\local\\programs\\python\\python39\\lib\\site-packages (from matplotlib) (3.1.2)\n",
      "Requirement already satisfied: importlib-resources>=3.2.0 in c:\\users\\dell\\appdata\\local\\programs\\python\\python39\\lib\\site-packages (from matplotlib) (6.4.0)\n",
      "Requirement already satisfied: python-dateutil>=2.7 in c:\\users\\dell\\appdata\\roaming\\python\\python39\\site-packages (from matplotlib) (2.9.0.post0)\n",
      "Requirement already satisfied: cycler>=0.10 in c:\\users\\dell\\appdata\\local\\programs\\python\\python39\\lib\\site-packages (from matplotlib) (0.12.1)\n",
      "Requirement already satisfied: packaging>=20.0 in c:\\users\\dell\\appdata\\roaming\\python\\python39\\site-packages (from matplotlib) (24.0)\n",
      "Requirement already satisfied: zipp>=3.1.0 in c:\\users\\dell\\appdata\\roaming\\python\\python39\\site-packages (from importlib-resources>=3.2.0->matplotlib) (3.19.0)\n",
      "Requirement already satisfied: six>=1.5 in c:\\users\\dell\\appdata\\roaming\\python\\python39\\site-packages (from python-dateutil>=2.7->matplotlib) (1.16.0)\n",
      "Note: you may need to restart the kernel to use updated packages.\n"
     ]
    },
    {
     "name": "stderr",
     "output_type": "stream",
     "text": [
      "WARNING: You are using pip version 22.0.4; however, version 24.0 is available.\n",
      "You should consider upgrading via the 'c:\\Users\\DELL\\AppData\\Local\\Programs\\Python\\Python39\\python.exe -m pip install --upgrade pip' command.\n"
     ]
    }
   ],
   "source": [
    "pip install matplotlib"
   ]
  },
  {
   "cell_type": "code",
   "execution_count": 5,
   "metadata": {},
   "outputs": [],
   "source": [
    "import matplotlib.pyplot as plt"
   ]
  },
  {
   "cell_type": "code",
   "execution_count": 6,
   "metadata": {},
   "outputs": [],
   "source": [
    "movies_df = pd.read_csv(r\"C:\\Users\\DELL\\Downloads\\movies.csv\")\n",
    "ratings_df = pd.read_csv(r\"C:\\Users\\DELL\\Downloads\\ratings.csv\")\n",
    "users_df = pd.read_csv(r\"C:\\Users\\DELL\\Downloads\\users.csv\")"
   ]
  },
  {
   "cell_type": "markdown",
   "metadata": {},
   "source": [
    "User Ratings of \"Toy Story\" and Bar Chart"
   ]
  },
  {
   "cell_type": "code",
   "execution_count": 7,
   "metadata": {},
   "outputs": [],
   "source": [
    "toy_story_id = movies_df[movies_df['Title'].str.contains(\"Toy Story\")]['MovieID'].values[0]\n",
    "toy_story_ratings = ratings_df[ratings_df['MovieID'] == toy_story_id]['Rating']\n"
   ]
  },
  {
   "cell_type": "code",
   "execution_count": 30,
   "metadata": {},
   "outputs": [
    {
     "data": {
      "image/png": "[encoded data removed]",
      "text/plain": [
       "<Figure size 640x480 with 1 Axes>"
      ]
     },
     "metadata": {},
     "output_type": "display_data"
    }
   ],
   "source": [
    "toy_story_rating_counts = toy_story_ratings.value_counts().sort_index()\n",
    "toy_story_rating_counts.plot(kind='bar',\n",
    "                            xlabel='Rating', \n",
    "                            ylabel='No.of Ratings', \n",
    "                            title='User Ratings for Toy Story')\n",
    "plt.show()"
   ]
  },
  {
   "cell_type": "markdown",
   "metadata": {},
   "source": [
    "Top 10 movies by viewership ratings"
   ]
  },
  {
   "cell_type": "code",
   "execution_count": 31,
   "metadata": {},
   "outputs": [
    {
     "name": "stdout",
     "output_type": "stream",
     "text": [
      "Top 10 Movies by Rating:\n",
      "Title\n",
      "Ulysses (Ulisse) (1954)                      5\n",
      "Lured (1947)                                 5\n",
      "Follow the Bitch (1998)                      5\n",
      "Bittersweet Motel (2000)                     5\n",
      "Song of Freedom (1936)                       5\n",
      "One Little Indian (1973)                     5\n",
      "Smashing Time (1967)                         5\n",
      "Schlafes Bruder (Brother of Sleep) (1995)    5\n",
      "Gate of Heavenly Peace, The (1995)           5\n",
      "Baby, The (1973)                             5\n",
      "Name: Rating, dtype: int32\n"
     ]
    }
   ],
   "source": [
    "merged_df = movies_df.merge(ratings_df, on='MovieID')\n",
    "ratings = merged_df.groupby('Title')['Rating'].mean().sort_values(ascending=False).head(10)\n",
    "ratings = ratings.astype(int)\n",
    "print(\"Top 10 Movies by Rating:\")\n",
    "print(ratings)"
   ]
  },
  {
   "cell_type": "markdown",
   "metadata": {},
   "source": []
  },
  {
   "cell_type": "markdown",
   "metadata": {},
   "source": [
    "Ratings for movies reviewed by a specific user"
   ]
  },
  {
   "cell_type": "code",
   "execution_count": 32,
   "metadata": {},
   "outputs": [
    {
     "data": {
      "text/plain": [
       "array([   1,    2,    3, ..., 6038, 6039, 6040], dtype=int64)"
      ]
     },
     "execution_count": 32,
     "metadata": {},
     "output_type": "execute_result"
    }
   ],
   "source": [
    "ratings_df['UserID'].unique()"
   ]
  },
  {
   "cell_type": "code",
   "execution_count": 37,
   "metadata": {},
   "outputs": [
    {
     "name": "stdout",
     "output_type": "stream",
     "text": [
      "Ratings for User {user_id}:\n",
      "                                                Title  Rating\n",
      "0                                    Walkabout (1971)       4\n",
      "1                           Gone with the Wind (1939)       3\n",
      "2                                       Harvey (1950)       5\n",
      "3                          Eat Drink Man Woman (1994)       4\n",
      "4              Monty Python and the Holy Grail (1974)       4\n",
      "5                          Wrong Trousers, The (1993)       5\n",
      "6                         English Patient, The (1996)       5\n",
      "7                              St. Elmo's Fire (1985)       4\n",
      "8                                  Auntie Mame (1958)       4\n",
      "9                                 Forrest Gump (1994)       4\n",
      "10  Star Wars: Episode VI - Return of the Jedi (1983)       4\n",
      "11                            Grand Day Out, A (1992)       5\n",
      "12                              Cool Hand Luke (1967)       3\n",
      "13                         Room with a View, A (1986)       5\n",
      "14                          Breaking the Waves (1996)       3\n",
      "15                                        Jaws (1975)       2\n",
      "16        South Park: Bigger, Longer and Uncut (1999)       1\n",
      "17                                Ghostbusters (1984)       3\n",
      "18                           Muppet Movie, The (1979)       3\n",
      "19                        Fish Called Wanda, A (1988)       5\n"
     ]
    }
   ],
   "source": [
    "user_id = int(input(\"Enter User ID: \"))  \n",
    "user_ratings = ratings_df[ratings_df['UserID'] == user_id].merge(movies_df, on='MovieID')\n",
    "\n",
    "print(\"Ratings for User {user_id}:\")\n",
    "print(user_ratings[['Title', 'Rating']])"
   ]
  },
  {
   "cell_type": "code",
   "execution_count": 34,
   "metadata": {},
   "outputs": [
    {
     "name": "stdout",
     "output_type": "stream",
     "text": [
      "Unique Genres and Movie Counts:\n",
      "Genres\n",
      "Drama          1603\n",
      "Comedy         1200\n",
      "Action          503\n",
      "Thriller        492\n",
      "Romance         471\n",
      "Horror          343\n",
      "Adventure       283\n",
      "Sci-Fi          276\n",
      "Children's      251\n",
      "Crime           211\n",
      "War             143\n",
      "Documentary     127\n",
      "Musical         114\n",
      "Mystery         106\n",
      "Animation       105\n",
      "Fantasy          68\n",
      "Western          68\n",
      "Film-Noir        44\n",
      "Name: count, dtype: int64\n"
     ]
    }
   ],
   "source": [
    "genre_counts = movies_df['Genres'].str.split('|').explode().value_counts()\n",
    "\n",
    "print(\"Unique Genres and Movie Counts:\")\n",
    "print(genre_counts)"
   ]
  },
  {
   "cell_type": "code",
   "execution_count": null,
   "metadata": {},
   "outputs": [],
   "source": []
  }
 ],
 "metadata": {
  "kernelspec": {
   "display_name": "Python 3",
   "language": "python",
   "name": "python3"
  },
  "language_info": {
   "codemirror_mode": {
    "name": "ipython",
    "version": 3
   },
   "file_extension": ".py",
   "mimetype": "text/x-python",
   "name": "python",
   "nbconvert_exporter": "python",
   "pygments_lexer": "ipython3",
   "version": "3.9.11"
  }
 },
 "nbformat": 4,
 "nbformat_minor": 2
}
